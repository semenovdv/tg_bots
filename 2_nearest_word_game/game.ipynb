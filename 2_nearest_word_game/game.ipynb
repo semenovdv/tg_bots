{
 "cells": [
  {
   "cell_type": "code",
   "execution_count": null,
   "id": "c5452824-756a-438c-bf10-0136abf6a2ff",
   "metadata": {},
   "outputs": [],
   "source": [
    "import telebot\n",
    "from telebot import types\n",
    "import fasttext\n",
    "import fasttext.util\n",
    "fasttext.util.download_model('ru', if_exists='ignore')  # English\n",
    "import random\n",
    "from numpy import dot\n",
    "from numpy.linalg import norm\n",
    "\n",
    "ft = fasttext.load_model('cc.ru.300.bin')"
   ]
  },
  {
   "cell_type": "code",
   "execution_count": null,
   "id": "36bc83d5-97f8-4003-af6f-0b9f30a0c745",
   "metadata": {},
   "outputs": [],
   "source": [
    "class TestBot:\n",
    "    def __init__(self, token=None, ft=None):\n",
    "        self.bot = telebot.TeleBot('6505268192:AAFk3XrQjkDHvSziBe2Wq5OLLqAxLnIF7bg')\n",
    "        self.words = \"краска, разработка, судья, выпуск, старуха, механизм, организм, вариант, опыт, действительность, инженер, деньги, дом, ожидание, произведение, карта, открытие, полоса, море, поддержка, здоровье, TRUE, ладонь, река, колено, ощущение, житель, правда, чемпионат, свойство, значение, отличие, площадь, гостиница, государство, апрель, телефон, президент, федерация, факт, выборы, девочка, занятие, вход, представление, секретарь, сеть, законодательство, автомат, господь, чемпионат, партнер, пенсия, ветер, постель, источник, кредит, запад, смех, способность, песок, край, сбор, мама, январь, эксперимент, хозяйка, суть, поэзия, федерация, ужас, пол, урок, чтение, тайна, формирование, масштаб, суд, лоб, дождь, шаг, общество, разработка, мужик, стиль, покупатель, неделя, ребенок, вывод, обучение, август, продажа, зуб, соглашение, увеличение, девушка, потеря, господь, родственник, редакция, утро, стул, увеличение, стул, лес, сердце, храм, помещение, дума, двигатель, народ, диван, нос, глаз, постановление, часы, хозяйка, разница, карта, писатель, частность, исследование, объект, золото, увеличение, реализация, TRUE, оценка, усилие, газета, отказ, глубина, помощник, причина, удар, оплата, линия, сестра, октябрь, ресторан, состояние, спина, пример, ребенок, доказательство, газ, главное, статья, двор, мальчик, ящик, уровень, создание, девочка, развитие, выполнение, старуха, комплекс, обращение, ребята, версия, перевод, реформа, кредит, солдат, программа, средство, личность, постель, гора, промышленность, продукция, давление, рыба, ожидание, храм, скорость, требование, сотня, январь, фонд, коридор, понимание, заместитель, река, оружие, эффект, билет, поэт, ракета, язык, вода, пакет, достижение, солдат, рыба, контакт, рабочий, выборы, обучение\"\n",
    "        self.words = [x.strip() for x in self.words.split(', ')]\n",
    "        self.ft = ft\n",
    "\n",
    "    \n",
    "        \n",
    "\n",
    "    def start_test(self, message):\n",
    "        self.bot_word = random.choice(self.words)\n",
    "        print(self.bot_word, \"bot_word\")\n",
    "        self.word_vector = self.ft.get_word_vector(self.bot_word)\n",
    "        self.bot.send_message(message.chat.id, \"Слово сгенеррованно, начинайте гадать\")\n",
    "\n",
    "        self.answers = []\n",
    "        self.user_words = set()\n",
    "\n",
    "    def get_text_messages(self, message):\n",
    "        print(message.text)\n",
    "        user_word = message.text.lower()\n",
    "        if user_word == self.bot_word:\n",
    "            self.bot.send_message(message.chat.id, \"Поздравляю, Вы угадали слово! Начните новую игру через \\start\")\n",
    "        else:\n",
    "            user_embed = self.ft.get_word_vector(message.text)\n",
    "            cos_sim = dot(user_embed, self.word_vector)/(norm(user_embed)*norm(self.word_vector))\n",
    "            progress_bar = self.printProgressBar((cos_sim*10000)//100, total=100)\n",
    "            if user_word not in self.user_words:\n",
    "                self.user_words.add(user_word)\n",
    "                self.answers.append(((cos_sim*10000)//100, user_word, progress_bar))\n",
    "                self.bot.send_message(message.chat.id, user_word + ' ' + progress_bar)\n",
    "            self.answers = sorted(self.answers)[-5:]\n",
    "            res_str = \"\"\n",
    "            for i in self.answers:\n",
    "                s = str(i[1]) + ' ' + i[2] + '\\n'\n",
    "                res_str += s\n",
    "            self.bot.send_message(message.chat.id, res_str)\n",
    "            \n",
    "    def printProgressBar(self, iteration, total, prefix = '', suffix = '', decimals = 1, length = 30, fill = '█', printEnd = \"\\r\"):\n",
    "        percent = (\"{0:.\" + str(decimals) + \"f}\").format(100 * (iteration / float(total)))\n",
    "        filledLength = int(length * iteration // total)\n",
    "        bar = fill * filledLength + '-' * (length - filledLength)\n",
    "        return f'\\r{prefix} |{bar}| {percent}% {suffix}'\n",
    "        \n",
    "\n",
    "\n",
    "test_bot = TestBot(ft=ft) #bot_token)\n",
    "\n",
    "@test_bot.bot.message_handler(commands=['start'])\n",
    "def handle_start(message):\n",
    "    test_bot.start_test(message)\n",
    "\n",
    "@test_bot.bot.message_handler(content_types=['text'])\n",
    "def handle_message(message):\n",
    "    test_bot.get_text_messages(message)\n",
    "\n",
    "print(\"DONE\")"
   ]
  },
  {
   "cell_type": "code",
   "execution_count": null,
   "id": "12266fc7-6e34-4ccb-866c-00609806192d",
   "metadata": {},
   "outputs": [],
   "source": [
    "import time\n",
    "while True:\n",
    "    try:\n",
    "        test_bot.bot.polling(none_stop=True)\n",
    "\n",
    "    except Exception as e:\n",
    "        print(e)  # или просто print(e) если у вас логгера нет,\n",
    "        # или import traceback; traceback.print_exc() для печати полной инфы\n",
    "        time.sleep(15)"
   ]
  },
  {
   "cell_type": "code",
   "execution_count": null,
   "id": "9e067851-e928-4d6a-8c51-3b784c3bb25e",
   "metadata": {},
   "outputs": [],
   "source": [
    "test_bot.answers[0]"
   ]
  },
  {
   "cell_type": "code",
   "execution_count": null,
   "id": "8f39184b-8a64-4dc6-a2b2-323f40797b46",
   "metadata": {},
   "outputs": [],
   "source": [
    "sorted([3,4,2])[1:]"
   ]
  },
  {
   "cell_type": "code",
   "execution_count": null,
   "id": "982b24ff-9b4b-464c-87bd-28e9766ea46b",
   "metadata": {},
   "outputs": [],
   "source": []
  }
 ],
 "metadata": {
  "kernelspec": {
   "display_name": "Python 3 (ipykernel)",
   "language": "python",
   "name": "python3"
  },
  "language_info": {
   "codemirror_mode": {
    "name": "ipython",
    "version": 3
   },
   "file_extension": ".py",
   "mimetype": "text/x-python",
   "name": "python",
   "nbconvert_exporter": "python",
   "pygments_lexer": "ipython3",
   "version": "3.10.12"
  }
 },
 "nbformat": 4,
 "nbformat_minor": 5
}
